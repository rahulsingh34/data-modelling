{
 "cells": [
  {
   "cell_type": "code",
   "execution_count": 4,
   "id": "88cba3bc-1682-4a07-b79b-942ac4a0c981",
   "metadata": {},
   "outputs": [],
   "source": [
    "from pyspark.sql import SparkSession\n",
    "from pyspark.sql.functions import broadcast\n",
    "from pyspark.sql import functions as F"
   ]
  },
  {
   "cell_type": "code",
   "execution_count": 5,
   "id": "22c171cb-730d-407b-9c70-1b25b82d9456",
   "metadata": {},
   "outputs": [],
   "source": [
    "# Create session\n",
    "spark = SparkSession.builder.appName(\"game\").getOrCreate()\n",
    "\n",
    "# Read tables\n",
    "match_details = spark.read.option(\"header\", \"true\").csv(\"/home/iceberg/data/match_details.csv\")\n",
    "matches = spark.read.option(\"header\", \"true\").csv(\"/home/iceberg/data/matches.csv\")\n",
    "medals_matches_players  = spark.read.option(\"header\", \"true\").csv(\"/home/iceberg/data/medals_matches_players.csv\")\n",
    "medals  = spark.read.option(\"header\", \"true\").csv(\"/home/iceberg/data/medals.csv\")\n",
    "maps  = spark.read.option(\"header\", \"true\").csv(\"/home/iceberg/data/maps.csv\")"
   ]
  },
  {
   "cell_type": "code",
   "execution_count": 6,
   "id": "595747fb-c1fa-46af-9d43-7dff63588b81",
   "metadata": {},
   "outputs": [],
   "source": [
    "# Disable auto broadcast join\n",
    "spark.conf.set(\"spark.sql.autoBroadcastJoinThreshold\", \"-1\")"
   ]
  },
  {
   "cell_type": "code",
   "execution_count": 7,
   "id": "4bef3df6-b374-4ba5-a97f-e5b96cc49893",
   "metadata": {},
   "outputs": [
    {
     "data": {
      "text/plain": [
       "(40, 183)"
      ]
     },
     "execution_count": 7,
     "metadata": {},
     "output_type": "execute_result"
    }
   ],
   "source": [
    "# Find which dataset is small/large\n",
    "maps.count(), medals.count()"
   ]
  },
  {
   "cell_type": "code",
   "execution_count": 8,
   "id": "e98ed94f-6a55-4440-8a94-10aac9a77edf",
   "metadata": {},
   "outputs": [],
   "source": [
    "# Explicity broadcast join\n",
    "medals_and_maps = medals.crossJoin(broadcast(maps))"
   ]
  },
  {
   "cell_type": "code",
   "execution_count": 9,
   "id": "0d505b59-0d8e-454f-804f-b0022d382419",
   "metadata": {},
   "outputs": [
    {
     "name": "stderr",
     "output_type": "stream",
     "text": [
      "25/02/12 20:25:20 WARN SparkStringUtils: Truncated the string representation of a plan since it was too large. This behavior can be adjusted by setting 'spark.sql.debug.maxToStringFields'.\n",
      "                                                                                \r"
     ]
    }
   ],
   "source": [
    "# Write bucketed tables\n",
    "match_details.write \\\n",
    "    .bucketBy(16, \"match_id\") \\\n",
    "    .format(\"parquet\") \\\n",
    "    .mode(\"overwrite\") \\\n",
    "    .saveAsTable(\"bucketed_match_details.parquet\")\n",
    "\n",
    "matches.write \\\n",
    "    .bucketBy(16, \"match_id\") \\\n",
    "    .format(\"parquet\") \\\n",
    "    .mode(\"overwrite\") \\\n",
    "    .saveAsTable(\"bucketed_matches.parquet\")\n",
    "\n",
    "medals_matches_players.write \\\n",
    "    .bucketBy(16, \"match_id\") \\\n",
    "    .format(\"parquet\") \\\n",
    "    .mode(\"overwrite\") \\\n",
    "    .saveAsTable(\"bucketed_medal_matches_players.parquet\")"
   ]
  },
  {
   "cell_type": "code",
   "execution_count": 10,
   "id": "79e8f492-f364-4d19-990f-cc773edad5c1",
   "metadata": {},
   "outputs": [],
   "source": [
    "# Read bucketed tables\n",
    "bucketed_match_details = spark.read.format(\"iceberg\").load(\"bucketed_match_details.parquet\")\n",
    "bucketed_matches = spark.read.format(\"iceberg\").load(\"bucketed_matches.parquet\")\n",
    "bucketed_medal_matches_players = spark.read.format(\"iceberg\").load(\"bucketed_medal_matches_players.parquet\")"
   ]
  },
  {
   "cell_type": "code",
   "execution_count": 11,
   "id": "b9a2de1c-114f-43d7-8087-3308f8ebc94f",
   "metadata": {},
   "outputs": [],
   "source": [
    "# Bucket join\n",
    "spark.conf.set(\"spark.sql.shuffle.partitions\", 16)\n",
    "\n",
    "bucketed_match_details = bucketed_match_details.withColumnRenamed(\"player_gamertag\", \"player_gamertag_md\")\n",
    "aggregate = bucketed_match_details.join(bucketed_matches, \"match_id\").join(bucketed_medal_matches_players, \"match_id\")"
   ]
  },
  {
   "cell_type": "code",
   "execution_count": 12,
   "id": "7ab2bfd9-e9c3-469b-9b07-a9012743567c",
   "metadata": {},
   "outputs": [
    {
     "name": "stdout",
     "output_type": "stream",
     "text": [
      "match_id: 18942\n",
      "player_gamertag_md: 68835\n",
      "previous_spartan_rank: 151\n",
      "spartan_rank: 151\n",
      "previous_total_xp: 146774\n",
      "total_xp: 147084\n",
      "previous_csr_tier: 7\n",
      "previous_csr_designation: 8\n",
      "previous_csr: 2332\n",
      "previous_csr_percent_to_next_tier: 51\n",
      "previous_csr_rank: 1150\n",
      "current_csr_tier: 7\n",
      "current_csr_designation: 8\n",
      "current_csr: 2344\n",
      "current_csr_percent_to_next_tier: 51\n",
      "current_csr_rank: 1963\n",
      "player_rank_on_team: 25\n",
      "player_finished: 2\n",
      "player_average_life: 150003\n",
      "player_total_kills: 80\n",
      "player_total_headshots: 41\n",
      "player_total_weapon_damage: 127373\n",
      "player_total_shots_landed: 542\n",
      "player_total_melee_kills: 30\n",
      "player_total_melee_damage: 24893\n",
      "player_total_assassinations: 10\n",
      "player_total_ground_pound_kills: 8\n",
      "player_total_shoulder_bash_kills: 10\n",
      "player_total_grenade_damage: 87338\n",
      "player_total_power_weapon_damage: 35538\n",
      "player_total_power_weapon_grabs: 9\n",
      "player_total_deaths: 72\n",
      "player_total_assists: 32\n",
      "player_total_grenade_kills: 12\n",
      "did_win: 2\n",
      "team_id: 9\n",
      "mapid: 16\n",
      "is_team_game: 3\n",
      "playlist_id: 23\n",
      "game_variant_id: 9\n",
      "is_match_over: 2\n",
      "completion_date: 269\n",
      "match_duration: 1\n",
      "game_mode: 1\n",
      "map_variant_id: 585\n",
      "player_gamertag: 66064\n",
      "medal_id: 142\n",
      "count: 37\n"
     ]
    }
   ],
   "source": [
    "# Check unique values in each column\n",
    "unique_counts = {col_name: aggregate.select(col_name).distinct().count() for col_name in aggregate.columns}\n",
    "for col_name, count in unique_counts.items():\n",
    "    print(f\"{col_name}: {count}\")"
   ]
  },
  {
   "cell_type": "code",
   "execution_count": null,
   "id": "596dfc4b-ae14-4add-b0c8-76a192d58871",
   "metadata": {},
   "outputs": [],
   "source": [
    "aggregate.write.mode(\"overwrite\").format(\"parquet\").saveAsTable(\"aggregate.parquet\")"
   ]
  },
  {
   "cell_type": "code",
   "execution_count": 31,
   "id": "86708a1e-3e08-48e7-8711-4da9d133dcd9",
   "metadata": {},
   "outputs": [
    {
     "name": "stderr",
     "output_type": "stream",
     "text": [
      "                                                                                \r"
     ]
    }
   ],
   "source": [
    "sorted_by_mapid = aggregate.repartition(16, \"mapid\").sortWithinPartitions(\"mapid\")\n",
    "sorted_by_mapid.write.mode(\"overwrite\").format(\"parquet\").saveAsTable(\"sorted_by_mapid.parquet\")"
   ]
  },
  {
   "cell_type": "code",
   "execution_count": 32,
   "id": "b0b9bc29-f608-4c1b-9d1e-cc45f83fc5fc",
   "metadata": {},
   "outputs": [
    {
     "name": "stderr",
     "output_type": "stream",
     "text": [
      "                                                                                \r"
     ]
    }
   ],
   "source": [
    "sorted_by_playlist_id = aggregate.repartition(23, \"playlist_id\").sortWithinPartitions(\"playlist_id\")\n",
    "sorted_by_playlist_id.write.mode(\"overwrite\").format(\"parquet\").saveAsTable(\"sorted_by_playlist_id.parquet\")"
   ]
  },
  {
   "cell_type": "code",
   "execution_count": 30,
   "id": "f80ec287-a560-4685-89b5-e9752d6bd2a5",
   "metadata": {},
   "outputs": [],
   "source": [
    "# aggregate = 19.7MB | sorted_by_map_id = 36.2MB | sorted_by_playlist_id = 35.8MB"
   ]
  }
 ],
 "metadata": {
  "kernelspec": {
   "display_name": "Python 3 (ipykernel)",
   "language": "python",
   "name": "python3"
  },
  "language_info": {
   "codemirror_mode": {
    "name": "ipython",
    "version": 3
   },
   "file_extension": ".py",
   "mimetype": "text/x-python",
   "name": "python",
   "nbconvert_exporter": "python",
   "pygments_lexer": "ipython3",
   "version": "3.9.18"
  }
 },
 "nbformat": 4,
 "nbformat_minor": 5
}
